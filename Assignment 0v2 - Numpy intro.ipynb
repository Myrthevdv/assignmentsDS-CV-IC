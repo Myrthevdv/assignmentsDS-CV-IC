{
 "cells": [
  {
   "cell_type": "markdown",
   "metadata": {},
   "source": [
    "# Short Numpy Tutorial\n",
    "\n",
    "This is a very short introduction to the library numpy (http://www.numpy.org), focused on one of its basic data structures, `ndarray`. Numpy is the most important scientific package in the Python ecosystem, because it provides a common datastructure on which many other packages are build on."
   ]
  },
  {
   "cell_type": "markdown",
   "metadata": {},
   "source": [
    "![Python scientific ecosystem](http://luispedro.org/files/talks/2013/EuBIAS/figures/sciwheel.png)"
   ]
  },
  {
   "cell_type": "markdown",
   "metadata": {},
   "source": [
    "To make this tutorial work on Python 3, let's import some future features:"
   ]
  },
  {
   "cell_type": "code",
   "execution_count": 1,
   "metadata": {},
   "outputs": [],
   "source": [
    "from __future__ import print_function, division"
   ]
  },
  {
   "cell_type": "code",
   "execution_count": 2,
   "metadata": {},
   "outputs": [],
   "source": [
    "# np is the standard abbreviation for numpy in the code\n",
    "# Even the numpy docs use it\n",
    "import numpy as np"
   ]
  },
  {
   "cell_type": "markdown",
   "metadata": {},
   "source": [
    "## What is an ndarray?\n",
    "\n",
    "The `ndarray` is the biggest contribution of numpy. An ndarray is\n",
    "\n",
    "- a regular grid of N-dimensions,\n",
    "- homogeneous by default (all the elements have the same type),\n",
    "- contiguous block of memory with types corresponding to machine types (8-bit ints, 32 bit floats, 64-bit longs, ...).\n",
    "- by default float64 is considered.\n",
    "\n",
    "### Building an array (inline)\n",
    "\n",
    "We can build an array explicitely from a Python list:"
   ]
  },
  {
   "cell_type": "code",
   "execution_count": 9,
   "metadata": {},
   "outputs": [
    {
     "name": "stdout",
     "output_type": "stream",
     "text": [
      "[[1.2 2.3 4. ]\n",
      " [1.2 3.4 5.2]\n",
      " [0.  1.  1.3]\n",
      " [0.  1.  0.2]]\n",
      "(4, 3)\n"
     ]
    }
   ],
   "source": [
    "arr = np.array([\n",
    "    [1.2, 2.3, 4.0],\n",
    "    [1.2, 3.4, 5.2],\n",
    "    [0.0, 1.0, 1.3],\n",
    "    [0.0, 1.0, 2e-1]]) # Create a 2D array (4rijen, 3kolommen)\n",
    "\n",
    "print(arr)\n",
    "print(arr.shape)"
   ]
  },
  {
   "cell_type": "markdown",
   "metadata": {},
   "source": [
    "**Note:** \n",
    "\n",
    "Check what parameters the array() command has e.g. how to specify the type of the array. \n",
    "\n",
    "Create a 2D matrix of 3 rows and 4 columns initializing with values chosen by you and specify the type of the elements as float.\n",
    "\n",
    "    "
   ]
  },
  {
   "cell_type": "code",
   "execution_count": 15,
   "metadata": {},
   "outputs": [
    {
     "name": "stdout",
     "output_type": "stream",
     "text": [
      "float64\n",
      "[[1.2 2.3 4.  0. ]\n",
      " [1.2 3.4 5.2 1. ]\n",
      " [0.  1.  1.3 0.2]]\n",
      "float64\n",
      "(3, 4)\n"
     ]
    }
   ],
   "source": [
    "print (arr.dtype)\n",
    "\n",
    "test_arr =  np.array([\n",
    "    [1.2, 2.3, 4.0, 0.0],\n",
    "    [1.2, 3.4, 5.2, 1.0],\n",
    "    [0.0, 1.0, 1.3, 2e-1]], dtype = float) # Create a 2D array (3rijen, 4kolommen)\n",
    "\n",
    "print(test_arr)\n",
    "print(test_arr.dtype)\n",
    "print(test_arr.shape)"
   ]
  },
  {
   "cell_type": "markdown",
   "metadata": {},
   "source": [
    "**Exercise:** Check in [numpy](docs.scipy.org) what other ways there are to create an array?()"
   ]
  },
  {
   "cell_type": "code",
   "execution_count": 20,
   "metadata": {},
   "outputs": [
    {
     "name": "stdout",
     "output_type": "stream",
     "text": [
      "[[7 7 7]\n",
      " [7 7 7]\n",
      " [7 7 7]]\n",
      "[[0.00000000e+000 9.56896609e-312]\n",
      " [0.00000000e+000 9.55959104e-312]]\n",
      "[[0. 0. 0.]\n",
      " [0. 0. 0.]\n",
      " [0. 0. 0.]]\n",
      "[[1. 1. 1.]\n",
      " [1. 1. 1.]\n",
      " [1. 1. 1.]]\n",
      "[[1. 0. 0.]\n",
      " [0. 1. 0.]\n",
      " [0. 0. 1.]]\n",
      "[0 1 2 3 4 5 6 7 8 9]\n",
      "[0.         0.11111111 0.22222222 0.33333333 0.44444444 0.55555556\n",
      " 0.66666667 0.77777778 0.88888889 1.        ]\n",
      "[   1.   10.  100. 1000.]\n",
      "[[0.01463644 0.09343247 0.08892025]\n",
      " [0.37066368 0.13635191 0.38100558]\n",
      " [0.50983161 0.48673376 0.717471  ]]\n",
      "[[-1.18283083 -1.21844817 -0.24673296]\n",
      " [-0.12446396  1.39017284  3.14480496]\n",
      " [-1.49126969 -0.55955251 -1.89474214]]\n",
      "[[2 2 8]\n",
      " [1 6 3]\n",
      " [1 8 6]]\n",
      "[[0.5488135  0.71518937 0.60276338]\n",
      " [0.54488318 0.4236548  0.64589411]\n",
      " [0.43758721 0.891773   0.96366276]]\n",
      "[[0.5488135  0.71518937 0.60276338]\n",
      " [0.54488318 0.4236548  0.64589411]\n",
      " [0.43758721 0.891773   0.96366276]]\n"
     ]
    }
   ],
   "source": [
    "# With full() , creeer je een array met een specifieke waarde\n",
    "arr = np.full((3, 3), 7)\n",
    "print(arr)\n",
    "\n",
    "# with empty() , creeer je een array met random waarden\n",
    "arr = np.empty((2, 2))\n",
    "print(arr)\n",
    "\n",
    "# with zeros() , creeer je een array met nullen\n",
    "arr = np.zeros((3, 3))\n",
    "print(arr)\n",
    "\n",
    "# with ones() , creeer je een array met enen\n",
    "arr = np.ones((3, 3))\n",
    "print(arr)\n",
    "\n",
    "# with eye() , creeer je een array met enen op de diagonaal\n",
    "arr = np.eye(3)\n",
    "print(arr)\n",
    "\n",
    "# with arange() , creeer je een array met een range van waarden\n",
    "arr = np.arange(10)\n",
    "print(arr)\n",
    "\n",
    "# with linspace() , creeer je een array met een range van waarden\n",
    "arr = np.linspace(0, 1, 10)\n",
    "print(arr)\n",
    "\n",
    "# with logspace() , creeer je een array met een range van waarden\n",
    "arr = np.logspace(0, 3, 4)\n",
    "print(arr)\n",
    "\n",
    "# with random.rand() , creeer je een array met random waarden\n",
    "arr = np.random.rand(3, 3)\n",
    "print(arr)\n",
    "\n",
    "# with random.randn() , creeer je een array met random waarden\n",
    "arr = np.random.randn(3, 3)\n",
    "print(arr)\n",
    "\n",
    "# with random.randint() , creeer je een array met random waarden\n",
    "arr = np.random.randint(0, 10, (3, 3))\n",
    "print(arr)\n",
    "\n",
    "# with random.seed() , creeer je een array met random waarden\n",
    "np.random.seed(0)\n",
    "arr = np.random.rand(3, 3)\n",
    "print(arr)\n",
    "\n",
    "# with random.seed() , creeer je een array met random waarden\n",
    "np.random.seed(0)\n",
    "arr = np.random.rand(3, 3)\n",
    "print(arr)\n"
   ]
  },
  {
   "cell_type": "markdown",
   "metadata": {},
   "source": [
    "Create a three-dimensional array of 100x100x3 elements of type integer stored by 32 bits. How many ways to do it, do you find?"
   ]
  },
  {
   "cell_type": "code",
   "execution_count": 22,
   "metadata": {},
   "outputs": [
    {
     "name": "stdout",
     "output_type": "stream",
     "text": [
      "[[[-331611824        450 -237150176]\n",
      "  [       450 -249125249        450]\n",
      "  [         0          0          0]\n",
      "  ...\n",
      "  [         0          0          0]\n",
      "  [         0          0          0]\n",
      "  [         0          0          0]]\n",
      "\n",
      " [[         0          0          0]\n",
      "  [         0          0          0]\n",
      "  [         0          0          0]\n",
      "  ...\n",
      "  [         0          0          0]\n",
      "  [         0          0          0]\n",
      "  [         0          0          0]]\n",
      "\n",
      " [[         0          0          0]\n",
      "  [         0          0          0]\n",
      "  [         0          0          0]\n",
      "  ...\n",
      "  [         0          0          0]\n",
      "  [         0          0          0]\n",
      "  [         0          0          0]]\n",
      "\n",
      " ...\n",
      "\n",
      " [[         0          0          0]\n",
      "  [         0          0          0]\n",
      "  [         0          0          0]\n",
      "  ...\n",
      "  [         0          0          0]\n",
      "  [         0          0          0]\n",
      "  [         0          0          0]]\n",
      "\n",
      " [[         0          0          0]\n",
      "  [         0          0          0]\n",
      "  [         0          0          0]\n",
      "  ...\n",
      "  [         0          0          0]\n",
      "  [         0          0          0]\n",
      "  [         0          0          0]]\n",
      "\n",
      " [[         0          0          0]\n",
      "  [         0          0          0]\n",
      "  [         0          0          0]\n",
      "  ...\n",
      "  [         0          0          0]\n",
      "  [         0          0          0]\n",
      "  [         0          0          0]]]\n",
      "[[[0 0 0]\n",
      "  [0 0 0]\n",
      "  [0 0 0]\n",
      "  ...\n",
      "  [0 0 0]\n",
      "  [0 0 0]\n",
      "  [0 0 0]]\n",
      "\n",
      " [[0 0 0]\n",
      "  [0 0 0]\n",
      "  [0 0 0]\n",
      "  ...\n",
      "  [0 0 0]\n",
      "  [0 0 0]\n",
      "  [0 0 0]]\n",
      "\n",
      " [[0 0 0]\n",
      "  [0 0 0]\n",
      "  [0 0 0]\n",
      "  ...\n",
      "  [0 0 0]\n",
      "  [0 0 0]\n",
      "  [0 0 0]]\n",
      "\n",
      " ...\n",
      "\n",
      " [[0 0 0]\n",
      "  [0 0 0]\n",
      "  [0 0 0]\n",
      "  ...\n",
      "  [0 0 0]\n",
      "  [0 0 0]\n",
      "  [0 0 0]]\n",
      "\n",
      " [[0 0 0]\n",
      "  [0 0 0]\n",
      "  [0 0 0]\n",
      "  ...\n",
      "  [0 0 0]\n",
      "  [0 0 0]\n",
      "  [0 0 0]]\n",
      "\n",
      " [[0 0 0]\n",
      "  [0 0 0]\n",
      "  [0 0 0]\n",
      "  ...\n",
      "  [0 0 0]\n",
      "  [0 0 0]\n",
      "  [0 0 0]]]\n",
      "[[[0 0 0]\n",
      "  [0 0 0]\n",
      "  [0 0 0]\n",
      "  ...\n",
      "  [0 0 0]\n",
      "  [0 0 0]\n",
      "  [0 0 0]]\n",
      "\n",
      " [[0 0 0]\n",
      "  [0 0 0]\n",
      "  [0 0 0]\n",
      "  ...\n",
      "  [0 0 0]\n",
      "  [0 0 0]\n",
      "  [0 0 0]]\n",
      "\n",
      " [[0 0 0]\n",
      "  [0 0 0]\n",
      "  [0 0 0]\n",
      "  ...\n",
      "  [0 0 0]\n",
      "  [0 0 0]\n",
      "  [0 0 0]]\n",
      "\n",
      " ...\n",
      "\n",
      " [[0 0 0]\n",
      "  [0 0 0]\n",
      "  [0 0 0]\n",
      "  ...\n",
      "  [0 0 0]\n",
      "  [0 0 0]\n",
      "  [0 0 0]]\n",
      "\n",
      " [[0 0 0]\n",
      "  [0 0 0]\n",
      "  [0 0 0]\n",
      "  ...\n",
      "  [0 0 0]\n",
      "  [0 0 0]\n",
      "  [0 0 0]]\n",
      "\n",
      " [[0 0 0]\n",
      "  [0 0 0]\n",
      "  [0 0 0]\n",
      "  ...\n",
      "  [0 0 0]\n",
      "  [0 0 0]\n",
      "  [0 0 0]]]\n",
      "[[[1 6 7]\n",
      "  [7 8 1]\n",
      "  [5 9 8]\n",
      "  ...\n",
      "  [6 3 3]\n",
      "  [7 8 5]\n",
      "  [0 8 5]]\n",
      "\n",
      " [[4 7 4]\n",
      "  [1 3 3]\n",
      "  [9 2 5]\n",
      "  ...\n",
      "  [9 2 4]\n",
      "  [7 3 0]\n",
      "  [5 4 0]]\n",
      "\n",
      " [[2 3 1]\n",
      "  [7 1 3]\n",
      "  [4 1 7]\n",
      "  ...\n",
      "  [6 9 3]\n",
      "  [7 1 3]\n",
      "  [7 8 8]]\n",
      "\n",
      " ...\n",
      "\n",
      " [[9 4 2]\n",
      "  [6 8 1]\n",
      "  [5 4 9]\n",
      "  ...\n",
      "  [9 9 3]\n",
      "  [4 5 0]\n",
      "  [4 0 4]]\n",
      "\n",
      " [[1 3 1]\n",
      "  [8 8 1]\n",
      "  [0 7 9]\n",
      "  ...\n",
      "  [9 8 1]\n",
      "  [2 0 4]\n",
      "  [0 3 5]]\n",
      "\n",
      " [[5 6 6]\n",
      "  [3 9 5]\n",
      "  [4 6 6]\n",
      "  ...\n",
      "  [4 2 1]\n",
      "  [2 1 1]\n",
      "  [3 8 1]]]\n",
      "[[[0.17445423 0.11813627 0.92780056]\n",
      "  [0.59674991 0.23913991 0.11387386]\n",
      "  [0.28697475 0.03925776 0.30827863]\n",
      "  ...\n",
      "  [0.81720727 0.31140853 0.25686119]\n",
      "  [0.98516036 0.34968157 0.59953564]\n",
      "  [0.75969196 0.4509368  0.25305599]]\n",
      "\n",
      " [[0.54626621 0.57107657 0.7918546 ]\n",
      "  [0.73024883 0.25025463 0.59375103]\n",
      "  [0.57580898 0.34012971 0.52565316]\n",
      "  ...\n",
      "  [0.26495491 0.33634102 0.46486177]\n",
      "  [0.61464962 0.4107128  0.42502068]\n",
      "  [0.03104425 0.51756177 0.03438222]]\n",
      "\n",
      " [[0.94843496 0.45804369 0.45660286]\n",
      "  [0.28887511 0.18644288 0.02626046]\n",
      "  [0.61506519 0.80017736 0.31035148]\n",
      "  ...\n",
      "  [0.97396415 0.21127669 0.8556614 ]\n",
      "  [0.39704586 0.56810497 0.58456066]\n",
      "  [0.93349465 0.33847663 0.45009792]]\n",
      "\n",
      " ...\n",
      "\n",
      " [[0.27500548 0.58746661 0.50142897]\n",
      "  [0.42543096 0.97093527 0.26574417]\n",
      "  [0.68573356 0.9312796  0.8484746 ]\n",
      "  ...\n",
      "  [0.78138287 0.09227887 0.51234471]\n",
      "  [0.13189416 0.20689097 0.77604172]\n",
      "  [0.27940298 0.67169365 0.2552699 ]]\n",
      "\n",
      " [[0.00657929 0.55213116 0.25850212]\n",
      "  [0.21395382 0.90801029 0.25869033]\n",
      "  [0.11981104 0.29169912 0.94546181]\n",
      "  ...\n",
      "  [0.44594454 0.6564504  0.45252544]\n",
      "  [0.33972    0.76668886 0.04816671]\n",
      "  [0.71483431 0.15991789 0.417536  ]]\n",
      "\n",
      " [[0.06801062 0.10100176 0.4490301 ]\n",
      "  [0.02769071 0.69492805 0.95949463]\n",
      "  [0.69838546 0.28080358 0.75611801]\n",
      "  ...\n",
      "  [0.05625874 0.20050627 0.58998393]\n",
      "  [0.69504914 0.659493   0.12592003]\n",
      "  [0.87879169 0.73884992 0.06154648]]]\n",
      "[[[-1.97696956  1.63101072 -0.93502223]\n",
      "  [ 0.15806342 -0.18411216  0.75970645]\n",
      "  [-0.59119841 -0.29499226 -2.10316276]\n",
      "  ...\n",
      "  [ 1.43000147 -0.0804932   0.37954385]\n",
      "  [ 0.15073554  0.80356609 -0.77509169]\n",
      "  [ 1.62329826 -0.30785166 -2.71716022]]\n",
      "\n",
      " [[-1.082813    1.39359331 -1.3086281 ]\n",
      "  [ 0.66322554 -0.24460603  0.37019939]\n",
      "  [ 0.17201154 -1.79947512  0.36728168]\n",
      "  ...\n",
      "  [-0.29724059  1.2395648   0.92843435]\n",
      "  [-0.48279754  0.14418931  0.49693018]\n",
      "  [-1.47466496  1.98687614 -0.40115719]]\n",
      "\n",
      " [[ 0.42351114 -0.33123022 -0.11477199]\n",
      "  [ 2.09987517 -0.01584936  0.03688061]\n",
      "  [-1.1413185  -0.93115258  0.53845501]\n",
      "  ...\n",
      "  [ 0.10224111 -0.2799908   0.71077348]\n",
      "  [-0.30526021 -0.94985847 -0.57273922]\n",
      "  [ 1.97953134  0.71998808  0.00988039]]\n",
      "\n",
      " ...\n",
      "\n",
      " [[-1.39297871 -0.06661069 -1.51778613]\n",
      "  [-1.09871812 -0.1454318   0.38143935]\n",
      "  [ 1.01619821 -1.04943228  0.647082  ]\n",
      "  ...\n",
      "  [-0.58136868  1.14627027  0.59575604]\n",
      "  [ 0.37969589  0.05512627  0.42228013]\n",
      "  [ 0.16724242 -0.69776537 -0.05146718]]\n",
      "\n",
      " [[-0.5992485  -0.3269103   0.60425648]\n",
      "  [-0.12914933  0.55626366  1.67455645]\n",
      "  [ 1.22819672 -2.81084513  0.84594315]\n",
      "  ...\n",
      "  [-0.18684243 -0.64586535  0.73151837]\n",
      "  [ 0.28953951 -0.22297674 -1.17770846]\n",
      "  [ 1.4530323  -0.49897694  1.68182141]]\n",
      "\n",
      " [[ 0.00588462  2.26421369  1.46042923]\n",
      "  [-0.37773171  0.54415114  0.53694418]\n",
      "  [-0.83687342  0.9201     -1.44554997]\n",
      "  ...\n",
      "  [-0.86048506 -0.29177276  0.9931402 ]\n",
      "  [-0.67222996 -0.88875016  0.33625887]\n",
      "  [-1.90060676 -0.1544478   0.32669185]]]\n",
      "[[[6 8 3]\n",
      "  [1 1 7]\n",
      "  [4 6 0]\n",
      "  ...\n",
      "  [7 2 4]\n",
      "  [0 8 3]\n",
      "  [5 8 6]]\n",
      "\n",
      " [[5 3 2]\n",
      "  [8 2 0]\n",
      "  [5 1 4]\n",
      "  ...\n",
      "  [6 7 1]\n",
      "  [3 8 3]\n",
      "  [4 3 7]]\n",
      "\n",
      " [[7 3 3]\n",
      "  [4 6 1]\n",
      "  [2 6 6]\n",
      "  ...\n",
      "  [5 6 5]\n",
      "  [9 3 7]\n",
      "  [8 2 3]]\n",
      "\n",
      " ...\n",
      "\n",
      " [[3 6 1]\n",
      "  [2 1 1]\n",
      "  [0 0 6]\n",
      "  ...\n",
      "  [4 4 2]\n",
      "  [8 0 2]\n",
      "  [8 7 5]]\n",
      "\n",
      " [[1 4 1]\n",
      "  [6 2 5]\n",
      "  [5 6 1]\n",
      "  ...\n",
      "  [2 3 9]\n",
      "  [0 1 9]\n",
      "  [4 9 6]]\n",
      "\n",
      " [[5 7 1]\n",
      "  [5 6 1]\n",
      "  [6 5 6]\n",
      "  ...\n",
      "  [5 4 6]\n",
      "  [4 7 9]\n",
      "  [3 0 3]]]\n"
     ]
    }
   ],
   "source": [
    "# Create a three-dimensional array of 100x100x3 elements of type integer stored by 32 bits. How many ways to do it, do you find?\n",
    "\n",
    "# 1\n",
    "arr = np.empty((100, 100, 3), dtype=np.int32)\n",
    "print(arr)\n",
    "\n",
    "# 2\n",
    "arr = np.zeros((100, 100, 3), dtype=np.int32)\n",
    "print(arr)\n",
    "\n",
    "# 3\n",
    "arr = np.full((100, 100, 3), 0, dtype=np.int32)\n",
    "print(arr)\n",
    "\n",
    "# 4\n",
    "arr = np.random.randint(0, 10, (100, 100, 3), dtype=np.int32)\n",
    "print(arr)\n",
    "\n",
    "# 5\n",
    "arr = np.random.rand(100, 100, 3)\n",
    "print(arr)\n",
    "\n",
    "# 6\n",
    "arr = np.random.randn(100, 100, 3)\n",
    "print(arr)\n",
    "\n",
    "# 7\n",
    "arr = np.random.randint(0, 10, (100, 100, 3))\n",
    "print(arr)\n",
    "\n"
   ]
  },
  {
   "cell_type": "markdown",
   "metadata": {},
   "source": [
    "**Help**: [Array creation.](https://docs.scipy.org/doc/numpy-1.13.0/user/basics.creation.html)"
   ]
  },
  {
   "cell_type": "code",
   "execution_count": 24,
   "metadata": {},
   "outputs": [
    {
     "name": "stdout",
     "output_type": "stream",
     "text": [
      "[[1.2 2.3 4. ]\n",
      " [1.2 3.4 5.2]\n",
      " [0.  1.  1.3]\n",
      " [0.  1.  0.2]]\n",
      "(4, 3)\n"
     ]
    }
   ],
   "source": [
    "arr = np.array([\n",
    "    [1.2, 2.3, 4.0],\n",
    "    [1.2, 3.4, 5.2],\n",
    "    [0.0, 1.0, 1.3],\n",
    "    [0.0, 1.0, 2e-1]]) # Create a 2D array (4rijen, 3kolommen)\n",
    "\n",
    "print(arr)\n",
    "print(arr.shape)"
   ]
  },
  {
   "cell_type": "markdown",
   "metadata": {},
   "source": [
    "### Inspecting array properties"
   ]
  },
  {
   "cell_type": "code",
   "execution_count": 25,
   "metadata": {},
   "outputs": [
    {
     "name": "stdout",
     "output_type": "stream",
     "text": [
      "float64\n",
      "2\n",
      "(4, 3)\n"
     ]
    }
   ],
   "source": [
    "print(arr.dtype)\n",
    "print(arr.ndim)\n",
    "print(arr.shape)"
   ]
  },
  {
   "cell_type": "markdown",
   "metadata": {},
   "source": [
    "This array is of `float64`, it has 2 dimensions and its shape is 4 rows and 3 columns.\n",
    "\n",
    "When constructing an array, we can explicitly specify the type:"
   ]
  },
  {
   "cell_type": "code",
   "execution_count": 27,
   "metadata": {},
   "outputs": [
    {
     "name": "stdout",
     "output_type": "stream",
     "text": [
      "[1 2 3]\n",
      "uint8\n"
     ]
    }
   ],
   "source": [
    "iarr = np.array([1,2,3], dtype='uint8')\n",
    "print(iarr)\n",
    "print(iarr.dtype)"
   ]
  },
  {
   "cell_type": "markdown",
   "metadata": {},
   "source": [
    "Arithmetic operations on the array : we should take into account that the type has to be respected."
   ]
  },
  {
   "cell_type": "code",
   "execution_count": 28,
   "metadata": {},
   "outputs": [
    {
     "name": "stdout",
     "output_type": "stream",
     "text": [
      "[[ 3.    5.75 10.  ]\n",
      " [ 3.    8.5  13.  ]\n",
      " [ 0.    2.5   3.25]\n",
      " [ 0.    2.5   0.5 ]]\n",
      "[2 4 6]\n"
     ]
    }
   ],
   "source": [
    "arr *= 2.5\n",
    "iarr *= 2\n",
    "print(arr)\n",
    "print(iarr)"
   ]
  },
  {
   "cell_type": "markdown",
   "metadata": {},
   "source": [
    "Ex: What is the problem of:\n",
    "\n",
    "`iarr *= 2.5 ?`"
   ]
  },
  {
   "cell_type": "code",
   "execution_count": null,
   "metadata": {},
   "outputs": [
    {
     "ename": "UFuncTypeError",
     "evalue": "Cannot cast ufunc 'multiply' output from dtype('float64') to dtype('uint8') with casting rule 'same_kind'",
     "output_type": "error",
     "traceback": [
      "\u001b[0;31m---------------------------------------------------------------------------\u001b[0m",
      "\u001b[0;31mUFuncTypeError\u001b[0m                            Traceback (most recent call last)",
      "\u001b[0;32m/var/folders/z7/nxq36knx5rl5215wg26wwgkm0000gn/T/ipykernel_31074/904203291.py\u001b[0m in \u001b[0;36m<module>\u001b[0;34m\u001b[0m\n\u001b[0;32m----> 1\u001b[0;31m \u001b[0miarr\u001b[0m \u001b[0;34m*=\u001b[0m \u001b[0;36m2.5\u001b[0m\u001b[0;34m\u001b[0m\u001b[0;34m\u001b[0m\u001b[0m\n\u001b[0m",
      "\u001b[0;31mUFuncTypeError\u001b[0m: Cannot cast ufunc 'multiply' output from dtype('float64') to dtype('uint8') with casting rule 'same_kind'"
     ]
    }
   ],
   "source": [
    "iarr *= 2.5 # Dit doet het niet omdat de array van het type uint8 is"
   ]
  },
  {
   "cell_type": "markdown",
   "metadata": {},
   "source": [
    "The solution is to convert the array elements to float.\n",
    "\n",
    "Check in [numpy](https://docs.scipy.org/doc/numpy-1.13.0/user/basics.types.html) the different types and how to convert an array to a different type."
   ]
  },
  {
   "cell_type": "code",
   "execution_count": 34,
   "metadata": {},
   "outputs": [
    {
     "data": {
      "text/plain": [
       "array([ 5., 10., 15.])"
      ]
     },
     "execution_count": 34,
     "metadata": {},
     "output_type": "execute_result"
    }
   ],
   "source": [
    "iarr.astype(float)*2.5"
   ]
  },
  {
   "cell_type": "markdown",
   "metadata": {},
   "source": [
    "Has the type of the `iarr` array chaged?\n",
    "Notice that numpy array creates variable with a certain type. If we do not consider it, our code will not work!"
   ]
  },
  {
   "cell_type": "code",
   "execution_count": 35,
   "metadata": {},
   "outputs": [
    {
     "name": "stdout",
     "output_type": "stream",
     "text": [
      "uint8\n",
      "[2 4 6]\n"
     ]
    }
   ],
   "source": [
    "print(iarr.dtype)\n",
    "print(iarr)\n"
   ]
  },
  {
   "cell_type": "markdown",
   "metadata": {},
   "source": [
    "## Indexing"
   ]
  },
  {
   "cell_type": "markdown",
   "metadata": {},
   "source": [
    "### Slicing & Dicing\n",
    "\n",
    "We can use Python's `[]` operator to slice and address the array:\n",
    "\n",
    "Below, you can see some examples of how we can read a matrix: "
   ]
  },
  {
   "cell_type": "code",
   "execution_count": 36,
   "metadata": {},
   "outputs": [
    {
     "name": "stdout",
     "output_type": "stream",
     "text": [
      "[[ 3.    5.75 10.  ]\n",
      " [ 3.    8.5  13.  ]\n",
      " [ 0.    2.5   3.25]\n",
      " [ 0.    2.5   0.5 ]]\n",
      "3.0\n",
      "[ 3.   8.5 13. ]\n",
      "[10.   13.    3.25  0.5 ]\n"
     ]
    }
   ],
   "source": [
    "print(arr) # The whole matrix\n",
    "print(arr[0,0]) # 0 row, 0 column\n",
    "print(arr[1]) # The whole 1 row\n",
    "print(arr[:,2]) # The whole 2 column"
   ]
  },
  {
   "cell_type": "markdown",
   "metadata": {},
   "source": [
    "### Working with slices of an array.\n",
    "\n",
    "Slices share memory with the original array! In the following code, the variable `view` corresponds to a slice of the array `arr`."
   ]
  },
  {
   "cell_type": "code",
   "execution_count": 46,
   "metadata": {},
   "outputs": [
    {
     "name": "stdout",
     "output_type": "stream",
     "text": [
      "Before: 903.0\n",
      "After: 1003.0\n",
      "[1003.     8.5   13. ]\n"
     ]
    }
   ],
   "source": [
    "# The position arr[1,0] = x. If we move its value to view, and modify view, we can see how arr[1,0] also is modifed.\n",
    "\n",
    "print(\"Before: {}\".format(arr[1,0]))\n",
    "\n",
    "# adding 100\n",
    "view = arr[1]\n",
    "view[0] += 100\n",
    "\n",
    "print(\"After: {}\".format(arr[1,0]))"
   ]
  },
  {
   "cell_type": "markdown",
   "metadata": {},
   "source": [
    "Note that by default Python assignation assumes sharing internal memory.\n",
    "\n",
    "**Exercise:** How can we avoid memory sharing between variables? We should use the `.copy()` function."
   ]
  },
  {
   "cell_type": "code",
   "execution_count": 51,
   "metadata": {},
   "outputs": [
    {
     "name": "stdout",
     "output_type": "stream",
     "text": [
      "Before: 1003.0\n",
      "After: 1003.0\n",
      "After view: 1103.0\n"
     ]
    }
   ],
   "source": [
    "print(\"Before: {}\".format(arr[1,0])) # Orginele waarde van rij 1, kolom 0\n",
    "view = arr.copy()[1] # Maaakt volledige kopie van de array arr, nieuwe kopie deelt geen geheugen met orginele array (wijzigingen in de kopie hebben geen invloed op de orginele array)\n",
    "view[0] += 100\n",
    "print(\"After: {}\".format(arr[1,0]))\n",
    "print(\"After view: {}\".format(view[0]))\n"
   ]
  },
  {
   "cell_type": "markdown",
   "metadata": {},
   "source": [
    "### Visual illustration of slicing"
   ]
  },
  {
   "cell_type": "code",
   "execution_count": 52,
   "metadata": {},
   "outputs": [],
   "source": [
    "a = np.array([\n",
    "       [ 0,  1,  2,  3,  4,  5],\n",
    "       [10, 11, 12, 13, 14, 15],\n",
    "       [20, 21, 22, 23, 24, 25],\n",
    "       [30, 31, 32, 33, 34, 35],\n",
    "       [40, 41, 42, 43, 44, 45],\n",
    "       [50, 51, 52, 53, 54, 55]])"
   ]
  },
  {
   "cell_type": "markdown",
   "metadata": {},
   "source": [
    "![slicing](https://scipy-lectures.github.io/_images/numpy_indexing.png)\n",
    "\n",
    "This image is taken from [scipy-lectures](https://scipy-lectures.github.io/intro/numpy/array_object.html), a more complete tutorial on numpy than what we have here."
   ]
  },
  {
   "cell_type": "markdown",
   "metadata": {},
   "source": [
    "## [Boolean operations](https://docs.scipy.org/doc/numpy-1.13.0/reference/routines.logic.html)\n",
    "\n",
    "An important subset of operations with numpy arrays concerns using logical operators to build boolean arrays. For example:\n"
   ]
  },
  {
   "cell_type": "code",
   "execution_count": null,
   "metadata": {},
   "outputs": [
    {
     "name": "stdout",
     "output_type": "stream",
     "text": [
      "[[  3.     5.75  10.  ]\n",
      " [103.     8.5   13.  ]\n",
      " [  0.     2.5    3.25]\n",
      " [  0.     2.5    0.5 ]]\n",
      "[[ True  True  True]\n",
      " [ True  True  True]\n",
      " [False  True  True]\n",
      " [False  True False]]\n"
     ]
    }
   ],
   "source": [
    "print (arr)\n",
    "is_greater_one = (arr >= 1.) # output= nieuwe array met True of False waarden (boolean)\n",
    "print(is_greater_one)"
   ]
  },
  {
   "cell_type": "markdown",
   "metadata": {
    "collapsed": true
   },
   "source": [
    "Put -100 in all elements of `arr` that are bigger than 10:"
   ]
  },
  {
   "cell_type": "code",
   "execution_count": 16,
   "metadata": {},
   "outputs": [
    {
     "name": "stdout",
     "output_type": "stream",
     "text": [
      "[[   3.      5.75   10.  ]\n",
      " [-100.      8.5  -100.  ]\n",
      " [   0.      2.5     3.25]\n",
      " [   0.      2.5     0.5 ]]\n"
     ]
    }
   ],
   "source": [
    "arr[(arr>10)] = -100\n",
    "print(arr)"
   ]
  },
  {
   "cell_type": "markdown",
   "metadata": {},
   "source": [
    "Construct a second array `arr2` that contains only the values of `arr` that are between 5 and 10:"
   ]
  },
  {
   "cell_type": "code",
   "execution_count": 17,
   "metadata": {},
   "outputs": [
    {
     "name": "stdout",
     "output_type": "stream",
     "text": [
      "[5.75 8.5 ]\n"
     ]
    }
   ],
   "source": [
    "arr2 = arr[(arr>5)&(arr<10)]\n",
    "print(arr2)"
   ]
  },
  {
   "cell_type": "markdown",
   "metadata": {},
   "source": [
    "Check what other [logical operations](https://docs.scipy.org/doc/numpy-1.13.0/reference/routines.logic.html) there are in numpy."
   ]
  },
  {
   "cell_type": "markdown",
   "metadata": {},
   "source": [
    "## [Basic functions on arrays](http://www.scipy-lectures.org/intro/numpy/operations.html)\n",
    "\n"
   ]
  },
  {
   "cell_type": "code",
   "execution_count": 18,
   "metadata": {},
   "outputs": [
    {
     "data": {
      "text/plain": [
       "-13.666666666666666"
      ]
     },
     "execution_count": 18,
     "metadata": {},
     "output_type": "execute_result"
    }
   ],
   "source": [
    "arr.mean()"
   ]
  },
  {
   "cell_type": "markdown",
   "metadata": {},
   "source": [
    "Also available: `max`, `min`, `sum`, `ptp` (point-to-point, i.e., difference between maximum and minimum values).\n",
    "\n",
    "These functions can also work *axis-wise*:"
   ]
  },
  {
   "cell_type": "code",
   "execution_count": null,
   "metadata": {},
   "outputs": [
    {
     "data": {
      "text/plain": [
       "array([-24.25  ,   4.8125, -21.5625])"
      ]
     },
     "execution_count": 19,
     "metadata": {},
     "output_type": "execute_result"
    }
   ],
   "source": [
    "arr.mean(axis=0) # Gemiddelde van de kolommen want axis=0 verwijst naar kolomen (verticaal) (axis=1 verwijst naar rijen)"
   ]
  },
  {
   "cell_type": "markdown",
   "metadata": {},
   "source": [
    "In order to *save* code lines, an important trick is to combine logical operations:"
   ]
  },
  {
   "cell_type": "code",
   "execution_count": 54,
   "metadata": {},
   "outputs": [
    {
     "name": "stdout",
     "output_type": "stream",
     "text": [
      "[[ True  True  True]\n",
      " [ True  True  True]\n",
      " [False  True  True]\n",
      " [False  True False]]\n",
      "0.75\n"
     ]
    }
   ],
   "source": [
    "is_greater_one = (arr > 1)\n",
    "print(is_greater_one)\n",
    "print(is_greater_one.mean())"
   ]
  },
  {
   "cell_type": "markdown",
   "metadata": {},
   "source": [
    "## Broadcasting\n",
    "\n",
    "You can often perform operations along the array rows or columns: "
   ]
  },
  {
   "cell_type": "code",
   "execution_count": 57,
   "metadata": {
    "scrolled": true
   },
   "outputs": [
    {
     "name": "stdout",
     "output_type": "stream",
     "text": [
      "[[5.000e+00 7.750e+00 1.000e+01]\n",
      " [1.005e+03 1.050e+01 1.300e+01]\n",
      " [2.000e+00 4.500e+00 3.250e+00]\n",
      " [2.000e+00 4.500e+00 5.000e-01]]\n",
      "Now adding [1,1,0] to *every row*\n",
      "\n",
      "[[6.000e+00 8.750e+00 1.000e+01]\n",
      " [1.006e+03 1.150e+01 1.300e+01]\n",
      " [3.000e+00 5.500e+00 3.250e+00]\n",
      " [3.000e+00 5.500e+00 5.000e-01]]\n"
     ]
    }
   ],
   "source": [
    "print(arr)\n",
    "print(\"Now adding [1,1,0] to *every row*\")\n",
    "print()\n",
    "arr += np.array([1,1,0])\n",
    "print(arr)"
   ]
  },
  {
   "cell_type": "markdown",
   "metadata": {},
   "source": [
    "Add the vector [1,2,3,4] to each column:"
   ]
  },
  {
   "cell_type": "code",
   "execution_count": 61,
   "metadata": {},
   "outputs": [
    {
     "name": "stdout",
     "output_type": "stream",
     "text": [
      "[[   9.     11.75   13.  ]\n",
      " [1012.     17.5    19.  ]\n",
      " [  12.     14.5    12.25]\n",
      " [  15.     17.5    12.5 ]]\n",
      "[[  10.     12.75   14.  ]\n",
      " [1014.     19.5    21.  ]\n",
      " [  15.     17.5    15.25]\n",
      " [  19.     21.5    16.5 ]]\n"
     ]
    }
   ],
   "source": [
    "print(arr)\n",
    "arr3 = arr.transpose() # verwisselt assen van de arrau van (3,4) naar (4,3)\n",
    "arr3 += np.array([1,2,3,4]) # kolom (verticaal) wordt toegevoegd aan elke rij (+) (dus eerste rij + 1, 2e rij +2 etc)\n",
    "arr = arr3.transpose() # terug naar orginele array maar \n",
    "print(arr)"
   ]
  },
  {
   "cell_type": "markdown",
   "metadata": {},
   "source": [
    "The exact [rules of how broadcasting works](http://docs.scipy.org/doc/numpy/user/basics.broadcasting.html) are a bit complex to explain, but it generally works as expected. For example, if your data is a set of measurements for a sample, and your columns are the different types of measurements, then, you can easily remove the mean like this:"
   ]
  },
  {
   "cell_type": "markdown",
   "metadata": {},
   "source": [
    "## Footnotes\n",
    "\n",
    "[homogeneous]: There is a loophole to get heterogeneous arrays, namely an array of `object`. Then, you can store any Python object. This comes at the cost of decreased computational efficiency (both in terms of processing time and memory usage)."
   ]
  },
  {
   "cell_type": "code",
   "execution_count": 62,
   "metadata": {},
   "outputs": [
    {
     "name": "stdout",
     "output_type": "stream",
     "text": [
      "The original matrix is:\n",
      "  [[1.2 2.3 4. ]\n",
      " [1.2 3.4 5.2]\n",
      " [0.  1.  1.3]\n",
      " [0.  1.  0.2]]\n",
      "\n",
      "The average value per column is:  [0.6   1.925 2.675]\n",
      "The average value per row is:  [2.5        3.26666667 0.76666667 0.4       ]\n",
      "\n",
      "The average value after subtracting the average values per row is: \n",
      "[[ 0.6    0.375  1.325]\n",
      " [ 0.6    1.475  2.525]\n",
      " [-0.6   -0.925 -1.375]\n",
      " [-0.6   -0.925 -2.475]]\n",
      "The average value after subtracting the average values per coloumn is: \n",
      "[[-1.3        -2.06666667 -0.76666667 -0.4       ]\n",
      " [-0.2         0.13333333  0.23333333  0.6       ]\n",
      " [ 1.5         1.93333333  0.53333333 -0.2       ]]\n",
      "\n",
      "1.7333333333333332\n",
      "The original matrix after normalizing is:\n",
      "  [[0.69230769 1.32692308 2.30769231]\n",
      " [0.69230769 1.96153846 3.        ]\n",
      " [0.         0.57692308 0.75      ]\n",
      " [0.         0.57692308 0.11538462]]\n"
     ]
    }
   ],
   "source": [
    "arr = np.array([\n",
    "    [1.2, 2.3, 4.0],\n",
    "    [1.2, 3.4, 5.2],\n",
    "    [0.0, 1.0, 1.3],\n",
    "    [0.0, 1.0, 2e-1]])\n",
    "print ('The original matrix is:\\n ', arr)\n",
    "print()\n",
    "print('The average value per column is: ',arr.mean(0))\n",
    "print('The average value per row is: ',arr.mean(1))\n",
    "print()\n",
    "# here we make a copy of the variable arr since we will modify it several times\n",
    "arr_aux1 = arr.copy()\n",
    "arr_aux2 = arr.copy()\n",
    "\n",
    "# we substract the average values to the whole matrix, first row based and later column based\n",
    "\n",
    "arr_aux1 -= arr.mean(0)\n",
    "print('The average value after subtracting the average values per row is: ') \n",
    "print(arr_aux1)\n",
    "\n",
    "arr_aux2 = arr_aux2.transpose()\n",
    "arr_aux2 -= arr.mean(1)\n",
    "print('The average value after subtracting the average values per coloumn is: ')\n",
    "print(arr_aux2)\n",
    "print()\n",
    "\n",
    "# The normalization is performed by dividing the matrix by its mean. \n",
    "print(arr.mean())\n",
    "print ('The original matrix after normalizing is:\\n ', arr/arr.mean())"
   ]
  }
 ],
 "metadata": {
  "kernelspec": {
   "display_name": "Python 3",
   "language": "python",
   "name": "python3"
  },
  "language_info": {
   "codemirror_mode": {
    "name": "ipython",
    "version": 3
   },
   "file_extension": ".py",
   "mimetype": "text/x-python",
   "name": "python",
   "nbconvert_exporter": "python",
   "pygments_lexer": "ipython3",
   "version": "3.13.0"
  }
 },
 "nbformat": 4,
 "nbformat_minor": 1
}
